{
 "cells": [
  {
   "cell_type": "markdown",
   "metadata": {},
   "source": [
    "# Our Awesome Machine Learning Recycling Bot"
   ]
  },
  {
   "cell_type": "code",
   "execution_count": 39,
   "metadata": {},
   "outputs": [],
   "source": [
    "# Imports\n",
    "import matplotlib.pyplot as plt # math plotting library\n",
    "%matplotlib inline \n",
    "import numpy as np\n",
    "from os import listdir \n",
    "import os\n",
    "import random\n",
    "from PIL import Image\n",
    "import cv2  # openCV, computer vision library\n",
    "from sklearn import svm  # our machine learning algorithm\n",
    "from sklearn.metrics import accuracy_score  "
   ]
  },
  {
   "cell_type": "code",
   "execution_count": 40,
   "metadata": {},
   "outputs": [],
   "source": [
    "directory_path = '/Users/computerscience/Desktop/recycling-bot/'\n",
    "donwsize_folder_path = directory_path + 'downsized_data/'"
   ]
  },
  {
   "cell_type": "code",
   "execution_count": 41,
   "metadata": {},
   "outputs": [],
   "source": [
    "if not os.path.isdir(donwsize_folder_path):\n",
    "    os.mkdir(donwsize_folder_path)"
   ]
  },
  {
   "cell_type": "code",
   "execution_count": 42,
   "metadata": {},
   "outputs": [
    {
     "name": "stdout",
     "output_type": "stream",
     "text": [
      "original image size: (384, 512, 3)\n",
      "final image size: (76, 102)\n"
     ]
    }
   ],
   "source": [
    "# scale images down\n",
    "scale_percent = 20 # percent of original size\n",
    "for filename in listdir('recycling-data'):\n",
    "    img_data = cv2.imread('recycling-data/' + filename, cv2.IMREAD_UNCHANGED)\n",
    "    original_img_size = img_data.shape\n",
    "    width = int(img_data.shape[1] * scale_percent / 100)\n",
    "    height = int(img_data.shape[0] * scale_percent / 100)\n",
    "    resize_img = (width, height)\n",
    "    print(\"original image size: \" + str(original_img_size))\n",
    "    print(\"final image size: \" + str(resize_img[::-1]))\n",
    "    break\n",
    "    "
   ]
  },
  {
   "cell_type": "code",
   "execution_count": 43,
   "metadata": {},
   "outputs": [],
   "source": [
    "# Resize our images and turn them to grayscale\n",
    "loaded_images = list()\n",
    "original_images = list()\n",
    "\n",
    "for filename in listdir('recycling-data'):\n",
    "        img_data = cv2.imread('recycling-data/' + filename, cv2.IMREAD_UNCHANGED)\n",
    "        resized_img = cv2.resize(img_data, resize_img, interpolation = cv2.INTER_AREA)\n",
    "        im = Image.fromarray(resized_img)\n",
    "        im.save(donwsize_folder_path + filename)"
   ]
  },
  {
   "cell_type": "code",
   "execution_count": 55,
   "metadata": {},
   "outputs": [
    {
     "data": {
      "image/png": "[encoded data removed]",
      "text/plain": [
       "<Figure size 432x288 with 1 Axes>"
      ]
     },
     "metadata": {
      "needs_background": "light"
     },
     "output_type": "display_data"
    },
    {
     "name": "stdout",
     "output_type": "stream",
     "text": [
      "(76, 102, 3)\n"
     ]
    }
   ],
   "source": [
    "# show image\n",
    "all_images = listdir('downsized_data')\n",
    "rand_num = random.randint(1,len(all_images))\n",
    "image = cv2.imread('downsized_data/' + all_images[rand_num], cv2.IMREAD_UNCHANGED)\n",
    "plt.imshow(image)\n",
    "plt.show()\n",
    "print(image.shape)"
   ]
  },
  {
   "cell_type": "code",
   "execution_count": null,
   "metadata": {},
   "outputs": [],
   "source": []
  },
  {
   "cell_type": "code",
   "execution_count": null,
   "metadata": {},
   "outputs": [],
   "source": []
  }
 ],
 "metadata": {
  "kernelspec": {
   "display_name": "Python 3",
   "language": "python",
   "name": "python3"
  },
  "language_info": {
   "codemirror_mode": {
    "name": "ipython",
    "version": 3
   },
   "file_extension": ".py",
   "mimetype": "text/x-python",
   "name": "python",
   "nbconvert_exporter": "python",
   "pygments_lexer": "ipython3",
   "version": "3.7.3"
  }
 },
 "nbformat": 4,
 "nbformat_minor": 2
}
